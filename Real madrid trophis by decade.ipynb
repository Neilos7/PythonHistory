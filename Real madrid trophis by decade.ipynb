{
 "cells": [
  {
   "cell_type": "code",
   "execution_count": 1,
   "metadata": {},
   "outputs": [],
   "source": [
    "#!pip install wikitables\n",
    "#!pip install pandas"
   ]
  },
  {
   "cell_type": "code",
   "execution_count": null,
   "metadata": {},
   "outputs": [],
   "source": [
    "import pandas as pd\n",
    "from wikitables import import_tables"
   ]
  },
  {
   "cell_type": "code",
   "execution_count": 2,
   "metadata": {},
   "outputs": [
    {
     "name": "stderr",
     "output_type": "stream",
     "text": [
      "Real Madrid CF[1][0]: missing field for column [Contractannouncement]\n",
      "Real Madrid CF[1][0]: missing field for column [Contractduration]\n",
      "Real Madrid CF[1][0]: missing field for column [Value]\n",
      "Real Madrid CF[1][0]: missing field for column [Notes]\n"
     ]
    }
   ],
   "source": [
    "tables = import_tables('Real Madrid CF') #returns a list of WikiTable objects"
   ]
  },
  {
   "cell_type": "code",
   "execution_count": 6,
   "metadata": {},
   "outputs": [],
   "source": [
    "decades = [1930, 1940, 1950, 1960, 1970, 1980, 1990, 2000, 2010]"
   ]
  },
  {
   "cell_type": "code",
   "execution_count": 3,
   "metadata": {},
   "outputs": [],
   "source": [
    "#Turn the row of wikipidia into pd Series.\n",
    "Rm_trophis = []\n",
    "for row in tables[2].rows:\n",
    "    season = str(row.get(\"Seasons\"))\n",
    "    season = season.split()\n",
    "    for i in season:\n",
    "        if i != \",\":\n",
    "            i.replace(\",\",\"\")\n",
    "            Rm_trophis.append(i[:4])\n",
    "Rm_trophis_year = pd.Series(Rm_trophis)"
   ]
  },
  {
   "cell_type": "code",
   "execution_count": 158,
   "metadata": {},
   "outputs": [],
   "source": [
    "# funcation that turns years into  a list of decadeds.\n",
    "Rm_trophis_year = Rm_trophis_year.apply(lambda x: str(x)[:3]+'0')\n",
    "list1 = Rm_trophis_year.astype(int).to_list()"
   ]
  },
  {
   "cell_type": "code",
   "execution_count": 150,
   "metadata": {},
   "outputs": [],
   "source": [
    "#lists-\n",
    "La_liga = list1[0:34]\n",
    "Copa = list1[35:53]\n",
    "Super_copa = list1[54:64]\n",
    "Copa_Eva_Duarte = list1[64:65]\n",
    "Copa_de_la_liga = list1[:65:66]\n",
    "UCL = list1[66:79]\n",
    "Uefa_cup = list1[79:81]\n",
    "Uefa_super_cup = list1 [81:85]\n",
    "Inter_cup = list1 [85:88]\n",
    "Fifa_wrld_cup = list1[88:]"
   ]
  },
  {
   "cell_type": "code",
   "execution_count": 151,
   "metadata": {},
   "outputs": [],
   "source": [
    "# A dict of all Real madrid Trophis\n",
    "RM_TROPHIS = {\"La Liga\":La_liga,\"Super Copa\":Super_copa,\"Copa del rey\":Copa,\"Copa_Eva_Duarte\":Copa_Eva_Duarte,\"Copa_de_la_liga\":Copa_de_la_liga,\n",
    "\"UCL\":UCL,\"Uefa_cup\":Uefa_cup,\"Uefa_super_cup\":Uefa_super_cup,\"Inter_cup\":Inter_cup,\"Fifa_wrld_cup\":Fifa_wrld_cup}\n",
    "#functiont that count number of tropgis of each decade\n",
    "def sep_dec(dic,deca):\n",
    "    dict1 ={}\n",
    "    for key, values in dic.items():\n",
    "        count = 0\n",
    "        for value in values:\n",
    "            if value == deca:\n",
    "                count+=1\n",
    "                dict1[key]=count\n",
    "    return pd.Series(dict1)"
   ]
  },
  {
   "cell_type": "code",
   "execution_count": 154,
   "metadata": {},
   "outputs": [
    {
     "data": {
      "text/plain": [
       "<matplotlib.axes._subplots.AxesSubplot at 0x1d276d37c88>"
      ]
     },
     "execution_count": 154,
     "metadata": {},
     "output_type": "execute_result"
    },
    {
     "data": {
      "image/png": "[encoded data removed]",
      "text/plain": [
       "<Figure size 432x288 with 1 Axes>"
      ]
     },
     "metadata": {
      "needs_background": "light"
     },
     "output_type": "display_data"
    }
   ],
   "source": [
    "#Insert the decade and get the bar table of trophis.\n",
    "show_plot = sep_dec(RM_TROPHIS,1990).plot(kind= \"bar\",title = \"Trophis won by Real Madrid acoording to the decade\")\n",
    "show_plot"
   ]
  }
 ],
 "metadata": {
  "kernelspec": {
   "display_name": "Python 3",
   "language": "python",
   "name": "python3"
  },
  "language_info": {
   "codemirror_mode": {
    "name": "ipython",
    "version": 3
   },
   "file_extension": ".py",
   "mimetype": "text/x-python",
   "name": "python",
   "nbconvert_exporter": "python",
   "pygments_lexer": "ipython3",
   "version": "3.7.4"
  }
 },
 "nbformat": 4,
 "nbformat_minor": 2
}
