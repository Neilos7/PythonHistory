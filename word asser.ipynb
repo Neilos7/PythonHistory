{
 "cells": [
  {
   "cell_type": "markdown",
   "metadata": {},
   "source": [
    "# Task 1 - Lyrics Analysis\n",
    "Yehoram Gaon said that The middle-eastern music is garbage. In a world of fake news, we don't know if that is correct. This is where you get in the picture.\n",
    "\n",
    "You have a a zip file, containing many folders. Every folder contains the lyrics of an Israeli artist. Before you start, unzip the file into your working folder (do it manually, and not in Python. It's not part of the task.)\n",
    "Your task is to write a function called `generate_report`. The function has two arguements: `input_folder_path` (which is the path to the folder conatining txt files with lyrics) and `output_file_path` (which will be the file where the report will be generated).\n",
    "\n",
    "The function has to generate a report based on the lyrics found in the input folder. You have to submit the code that generates that report, and also the output reports of the artists in the attached zip file.\n",
    "\n",
    "For example, the function call `generate_report('eyal_golan', 'eyal_golan_report.txt')` will take all the songs in the folder `eyal_golan` and will generate a report in the file `eyal_golan_report.txt`.\n",
    "\n",
    "For that report we will define a linguistic level score called \"Joni's scale\". It is a scale from 0 to 1, calculated by the amount of **different** words of an artist divided by the amount of the **total** words of an artist. For example, let's say we have an artist that has only one song which its lyrics are:\n",
    "\n",
    "*אני אוהב אותך, אותך אני אוהב!\n",
    "את החיים שלי בלב. את אוהבת אותי בלב, אני אותך אוהב. בלב.*\n",
    "\n",
    "\n",
    "The lyrics have 18 words, but only 9 different ones. So Joni's scale will be 9 / 18 = 0.5\n",
    "\n",
    "\n",
    "The report should contain the following sections:\n",
    "* The artist's name (assumed to be the folder name)\n",
    "* The number of songs of the artist\n",
    "* The artist's Joni's scale\n",
    "* The most popular word of the artist (Use a dictionary to do so)\n",
    "* The average word count per song of the artist\n",
    "* Bonus: The most popular 10 words of the artist\n",
    "\n",
    "Please mind that:\n",
    "* Punctuation marks should be ignored. Therefore the words 'אוהב', 'אוהב!' and 'אוהב,' should be referenced as the same word.\n",
    "* A file called `hebew_stopwords.txt` is attached. It contains a list of the most common hebrew words. All these words should be ignored.\n",
    "* The words 'פזמון', 'פתיחה', 'מעבר' and 'סיום' should be ignored too.\n",
    "* Use meaningful names of variables and functions.\n",
    "* Split the task into reasonable number of functions. The rule of thumb should be that every function should have a defined purpose.\n",
    "* Document your code.\n",
    "* Some of the things you'll need to do weren't taught in class. Search for them.\n",
    "* Besides code correctness, your grade will be based on all the above.\n",
    "\n",
    "**Good luck!**"
   ]
  },
  {
   "cell_type": "code",
   "execution_count": 2,
   "metadata": {
    "scrolled": true
   },
   "outputs": [],
   "source": [
    "#The function open files in folder. \n",
    "# creates a frequent dictionary and produce the artist name, number of songs and most popular words.\n",
    "def open_file_in_folder(folder):\n",
    "    import glob\n",
    "    songs_list = glob.glob(folder + \"\\\\*.txt\")\n",
    "    global number_of_songs\n",
    "    number_of_songs = 0\n",
    "    global artist_name\n",
    "    artist_name = folder\n",
    "    songs = []\n",
    "    for file in songs_list: \n",
    "        f_open = open(str(file),\"r\", encoding = \"utf-8\")  \n",
    "        number_of_songs += 1   \n",
    "        f_stop_words = open(\"hebrew_stopwords.txt\",\"r\",encoding = \"utf-8\")\n",
    "        stop_words = f_stop_words.read().split()\n",
    "        global count_words\n",
    "        count_words= 0\n",
    "        global d\n",
    "        d = {}\n",
    "        content = f_open.read()\n",
    "        words = content.split()\n",
    "        songs += words\n",
    "        ignore= [\"פתיחה\",\"סיום\",\"מעבר\",\"פזמון\",]\n",
    "        for word in songs:     \n",
    "            word = word.strip(\".!?:,\\ * \")\n",
    "            if word.isalpha():\n",
    "                if word not in d:\n",
    "                    if word in ignore:\n",
    "                        continue\n",
    "                    if word in stop_words:\n",
    "                        continue\n",
    "                count_words += 1\n",
    "                d[word]=d.get(word,0)+1 \n",
    "    global most_pop_words\n",
    "    most_pop_words = sorted(d.keys(),key=d.get,reverse=True)\n",
    "    global length_of_words\n",
    "    length_of_words = len(d.keys())\n",
    "    f_open.close()\n",
    "    f_stop_words.close()"
   ]
  },
  {
   "cell_type": "code",
   "execution_count": 3,
   "metadata": {},
   "outputs": [],
   "source": [
    "# The function return average word per artist\n",
    "def avg(num1,num2):\n",
    "    return num1/num2"
   ]
  },
  {
   "cell_type": "code",
   "execution_count": 4,
   "metadata": {},
   "outputs": [],
   "source": [
    "#The function calculate Joni's scale  \n",
    "def jonis_scale(number1,number2):\n",
    "    return number1/number2"
   ]
  },
  {
   "cell_type": "code",
   "execution_count": 5,
   "metadata": {},
   "outputs": [],
   "source": [
    "# The function gets input_folder_path and output_file_path and generates\n",
    "# a lyrics report of the lyrics in input_folder_path, saving it to\n",
    "# output_file_path\n",
    "def generate_report(input_folder_path,output_folder_path):\n",
    "    get_freq_dict = open_file_in_folder(input_folder_path) \n",
    "    Jonis_scale = jonis_scale(length_of_words,count_words)\n",
    "    avrage_word_per_artist = avg(count_words,number_of_songs)\n",
    "    f_out = open(output_folder_path,\"w\",encoding = \"utf-8\")\n",
    "    f_out.write(\"Name of artist: \"+artist_name +\"\\n\" + \"Number of songs: \" + str(number_of_songs) + \"\\n\")\n",
    "    f_out.write(\"Joni's scale: \" + str(jonis_scale(length_of_words,count_words))+\"\\n\") \n",
    "    f_out.write(\"Average word count: \" + str(avg(count_words,number_of_songs))+\"\\n\")\n",
    "    f_out.write(\"The 10 most common words: \" + str(most_pop_words[:10]))\n",
    "    f_out.close()"
   ]
  },
  {
   "cell_type": "code",
   "execution_count": 7,
   "metadata": {
    "scrolled": true
   },
   "outputs": [],
   "source": [
    "generate_report(\"yehoram_gaon\",\"yehoram_gaon report.txt\")"
   ]
  },
  {
   "cell_type": "code",
   "execution_count": null,
   "metadata": {},
   "outputs": [],
   "source": []
  }
 ],
 "metadata": {
  "kernelspec": {
   "display_name": "Python 3",
   "language": "python",
   "name": "python3"
  },
  "language_info": {
   "codemirror_mode": {
    "name": "ipython",
    "version": 3
   },
   "file_extension": ".py",
   "mimetype": "text/x-python",
   "name": "python",
   "nbconvert_exporter": "python",
   "pygments_lexer": "ipython3",
   "version": "3.7.4"
  }
 },
 "nbformat": 4,
 "nbformat_minor": 2
}
